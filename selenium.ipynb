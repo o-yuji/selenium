{
 "cells": [
  {
   "cell_type": "code",
   "execution_count": 56,
   "metadata": {},
   "outputs": [],
   "source": [
    "from selenium import webdriver\n",
    "from selenium.webdriver.common.by import By\n",
    "from selenium.webdriver.chrome.options import Options"
   ]
  },
  {
   "cell_type": "code",
   "execution_count": 57,
   "metadata": {},
   "outputs": [],
   "source": [
    "options = Options()\n",
    "options.add_argument('--headless')"
   ]
  },
  {
   "cell_type": "code",
   "execution_count": 58,
   "metadata": {},
   "outputs": [],
   "source": [
    "driver = webdriver.Chrome(options=options)"
   ]
  },
  {
   "cell_type": "code",
   "execution_count": 59,
   "metadata": {},
   "outputs": [],
   "source": [
    "driver.get(\"https://www.google.com/\")\n",
    "search_bar = driver.find_element(By.NAME, \"q\")\n",
    "search_bar.send_keys(\"python\")\n",
    "search_bar.submit()"
   ]
  },
  {
   "cell_type": "code",
   "execution_count": 60,
   "metadata": {},
   "outputs": [
    {
     "name": "stdout",
     "output_type": "stream",
     "text": [
      "Welcome to Python.org\n",
      "https://www.python.org/\n",
      "\n",
      "https://freelance-start.com/articles/408#:~:text=%E3%81%A3%E3%81%A6%E4%BD%95%EF%BC%9F-,2.Python%E3%81%AE%E7%BF%92%E5%BE%97%E6%99%82%E9%96%93%E3%81%AE%E7%9B%AE%E5%AE%89,%E8%80%83%E3%81%88%E3%82%8B%E3%81%AE%E3%81%8B%E3%81%8C%E9%87%8D%E8%A6%81%E3%81%A7%E3%81%99%E3%80%82\n",
      "\n",
      "https://tech-stock.com/magazine/what-can-you-do-with-python/\n",
      "\n",
      "https://x-tech.pasona.co.jp/media/detail.html?p=2104#:~:text=Python%E3%81%AE%E5%BC%B7%E3%81%BF%E3%81%A8%E3%81%97%E3%81%A6%E3%80%81%E6%95%B0%E5%80%A4,%E3%83%87%E3%83%BC%E3%82%BF%E5%87%A6%E7%90%86%E3%81%8C%E5%8F%AF%E8%83%BD%E3%81%A7%E3%81%99%E3%80%82\n",
      "\n",
      "https://online.dhw.co.jp/kuritama/about-python/#:~:text=Python%E3%81%AF%E3%82%AA%E3%83%BC%E3%83%97%E3%83%B3%E3%82%BD%E3%83%BC%E3%82%B9%E3%81%A7,%E8%A8%80%E8%AA%9E%E3%81%A8%E3%81%84%E3%81%88%E3%82%8B%E3%81%A7%E3%81%97%E3%82%87%E3%81%86%E3%80%82\n",
      "python.jp: プログラミング言語 Python 総合情報サイト\n",
      "https://www.python.jp/\n",
      "Python（パイソン）とは？人気プログラミング言語の特徴・活用 ...\n",
      "https://udemy.benesse.co.jp/development/python-work/python.html\n",
      "Amazon.co.jp: Python - プログラミング / コンピュータ・IT: 本\n",
      "https://www.amazon.co.jp/%E3%83%97%E3%83%AD%E3%82%B0%E3%83%A9%E3%83%9F%E3%83%B3%E3%82%B0-Python-%E3%82%B3%E3%83%B3%E3%83%94%E3%83%A5%E3%83%BC%E3%82%BF%E3%83%BBIT/s?rh=n%3A492352%2Cp_n_feature_seven_browse-bin%3A3232405051\n",
      "Python\n",
      "https://ja.wikipedia.org/wiki/Python\n",
      "ゼロからのPython入門講座\n",
      "https://www.python.jp/train/index.html\n",
      "Pythonとは？プログラミング言語の用途を初心者向けに解説\n",
      "https://coeteco.jp/articles/10661\n",
      "もっと見る\n",
      "https://www.google.com/search?q=python&sca_esv=256fb5663bb66023&sca_upv=1&ei=I9nAZfatF5-Nvr0PiZuSsA8&start=10&sa=N\n",
      "\n",
      "None\n"
     ]
    }
   ],
   "source": [
    "for elem_h3 in driver.find_elements(By.XPATH, \"//a/h3\"):\n",
    "  print(elem_h3.text)\n",
    "  elem_a = elem_h3.find_element(By.XPATH, \"..\")\n",
    "  print(elem_a.get_attribute(\"href\"))"
   ]
  },
  {
   "cell_type": "code",
   "execution_count": null,
   "metadata": {},
   "outputs": [],
   "source": []
  }
 ],
 "metadata": {
  "kernelspec": {
   "display_name": "Python 3",
   "language": "python",
   "name": "python3"
  },
  "language_info": {
   "codemirror_mode": {
    "name": "ipython",
    "version": 3
   },
   "file_extension": ".py",
   "mimetype": "text/x-python",
   "name": "python",
   "nbconvert_exporter": "python",
   "pygments_lexer": "ipython3",
   "version": "3.10.1"
  }
 },
 "nbformat": 4,
 "nbformat_minor": 2
}
